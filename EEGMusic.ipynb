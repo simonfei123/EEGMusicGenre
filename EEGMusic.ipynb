{
 "cells": [
  {
   "cell_type": "code",
   "execution_count": 23,
   "metadata": {},
   "outputs": [],
   "source": [
    "# !pip install pygame"
   ]
  },
  {
   "cell_type": "code",
   "execution_count": 26,
   "metadata": {},
   "outputs": [],
   "source": [
    "import mindwave, time\n",
    "from pprint import pprint\n",
    "import socket,select\n",
    "import time, datetime, sys\n",
    "import matplotlib.pyplot as plt\n",
    "import numpy as np\n",
    "import pandas as pd\n",
    "from pygame import mixer\n",
    "import pathlib"
   ]
  },
  {
   "cell_type": "code",
   "execution_count": 2,
   "metadata": {},
   "outputs": [],
   "source": [
    "secondsToSample = 30\n",
    "Fs=128 \n",
    "show=False\n",
    "samplepoints = Fs*secondsToSample"
   ]
  },
  {
   "cell_type": "code",
   "execution_count": 3,
   "metadata": {},
   "outputs": [
    {
     "name": "stdout",
     "output_type": "stream",
     "text": [
      "Connecting\n",
      "Connected!\n"
     ]
    }
   ],
   "source": [
    "print(\"Connecting\")\n",
    "headset = mindwave.Headset('/dev/tty.MindWaveMobile-SerialPo')\n",
    "time.sleep(2)\n",
    "print(\"Connected!\")"
   ]
  },
  {
   "cell_type": "code",
   "execution_count": 4,
   "metadata": {},
   "outputs": [],
   "source": [
    "def on_raw(headset, rawvalue):\n",
    "    (eeg, attention) = (headset.raw_value, headset.attention)\n",
    "    \n",
    "    ts = time.time()\n",
    "    data['timestamp'].append(ts)\n",
    "    data['raw_value'].append(eeg)\n",
    "    data['attention'].append(attention)\n",
    "\n",
    "    global currentTimestamp\n",
    "    global currentRawValue\n",
    "    global currentAttention\n",
    "    currentTimestamp = ts\n",
    "    currentRawValue = eeg\n",
    "    currentAttention = attention"
   ]
  },
  {
   "cell_type": "code",
   "execution_count": 5,
   "metadata": {},
   "outputs": [],
   "source": [
    "data = dict()\n",
    "data['timestamp'] = list()\n",
    "data['raw_value'] = list()\n",
    "data['attention'] = list()\n",
    "currentTimestamp = None\n",
    "currentRawValue = None\n",
    "currentAttention = None\n",
    "\n",
    "sampled_data = dict()\n",
    "sampled_data['timestamp'] = list() \n",
    "sampled_data['raw_value'] = list()\n",
    "sampled_data['attention'] = list()\n",
    "\n",
    "filename = './data/myRawEEG.csv'\n",
    "filename_listener = './data/myRawEEG_listener.csv'"
   ]
  },
  {
   "cell_type": "code",
   "execution_count": null,
   "metadata": {},
   "outputs": [],
   "source": [
    "try:\n",
    "    while (headset.poor_signal > 5):\n",
    "        print(\"Headset signal noisy %d. Adjust the headset and the earclip.\" % (headset.poor_signal))\n",
    "        time.sleep(0.1)\n",
    "        \n",
    "    print(\"Writing %d seconds output to %s\" % (secondsToSample,filename))\n",
    "    stime = time.time()\n",
    "    headset.raw_value_handlers.append( on_raw )\n",
    "    prevTime = 0\n",
    "    while ((time.time()-stime)<secondsToSample):\n",
    "        if headset.poor_signal > 5 :\n",
    "            print(\"Headset signal noisy %d. Adjust the headset and the earclip.\" % (headset.poor_signal))\n",
    "\n",
    "        if currentTimestamp is not None: \n",
    "            sampled_data[\"timestamp\"].append(currentTimestamp)\n",
    "            sampled_data[\"raw_value\"].append(currentRawValue)\n",
    "            sampled_data[\"attention\"].append(currentAttention)\n",
    "\n",
    "        timeDiff = int(time.time()-stime)\n",
    "        if(timeDiff != prevTime) : \n",
    "            print(\"seconds elapsed: \" + str(timeDiff))\n",
    "            prevTime = timeDiff\n",
    "        time.sleep(1/Fs)\n",
    "        pass\n",
    "\n",
    "finally:\n",
    "    \n",
    "    df = pd.DataFrame.from_dict(sampled_data)\n",
    "    df.to_csv(filename, index=False)\n",
    "\n",
    "    headset.stop()"
   ]
  },
  {
   "cell_type": "code",
   "execution_count": 25,
   "metadata": {},
   "outputs": [],
   "source": [
    "mixer.init()\n",
    "mixer.music.load('./data/hip_hop/breathe_and_stop.mp3')\n",
    "mixer.music.play()"
   ]
  },
  {
   "cell_type": "code",
   "execution_count": 36,
   "metadata": {},
   "outputs": [],
   "source": [
    "# grab all the music\n",
    "currentDirectory = pathlib.Path('./data/hip_hop')\n",
    "currentPattern = \"*.mp3\"\n",
    "songs = []\n",
    "for currentFile in currentDirectory.glob(currentPattern):\n",
    "    songs.append(str(currentFile))\n",
    "currentDirectory = pathlib.Path('./data/classical')\n",
    "currentPattern = \"*.mp3\"\n",
    "for currentFile in currentDirectory.glob(currentPattern):\n",
    "    songs.append(str(currentFile))"
   ]
  },
  {
   "cell_type": "code",
   "execution_count": 38,
   "metadata": {},
   "outputs": [
    {
     "data": {
      "text/plain": [
       "35"
      ]
     },
     "execution_count": 38,
     "metadata": {},
     "output_type": "execute_result"
    }
   ],
   "source": [
    "len(songs)"
   ]
  },
  {
   "cell_type": "code",
   "execution_count": null,
   "metadata": {},
   "outputs": [],
   "source": []
  }
 ],
 "metadata": {
  "kernelspec": {
   "display_name": "Python 3",
   "language": "python",
   "name": "python3"
  },
  "language_info": {
   "codemirror_mode": {
    "name": "ipython",
    "version": 3
   },
   "file_extension": ".py",
   "mimetype": "text/x-python",
   "name": "python",
   "nbconvert_exporter": "python",
   "pygments_lexer": "ipython3",
   "version": "3.8.5"
  }
 },
 "nbformat": 4,
 "nbformat_minor": 4
}
